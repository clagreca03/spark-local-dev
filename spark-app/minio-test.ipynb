{
 "cells": [
  {
   "cell_type": "code",
   "execution_count": null,
   "id": "eeb34cd3-4aa6-468c-8a63-b8be7b87c56b",
   "metadata": {
    "editable": true,
    "slideshow": {
     "slide_type": ""
    },
    "tags": []
   },
   "outputs": [],
   "source": [
    "from io import BytesIO\n",
    "import pandas as pd\n",
    "from minio import Minio\n",
    "\n",
    "bucket = 'spark-dev-bucket'\n",
    "file_path = 'test.parquet'\n",
    "\n",
    "minioClient = Minio(\n",
    "    'minio:9000',\n",
    "    access_key='minio',\n",
    "    secret_key='minio-pass',\n",
    "    secure=False\n",
    ")"
   ]
  },
  {
   "cell_type": "code",
   "execution_count": null,
   "id": "9580891b-6e29-492d-b500-d69d8c5572a8",
   "metadata": {},
   "outputs": [],
   "source": [
    "# Create sample data frame\n",
    "data = {\n",
    "    'product': ['a', 'b', 'c', 'd'],\n",
    "    'price': [10, 20, 30, 40]\n",
    "}\n",
    "data_df = pd.DataFrame(data)\n",
    "buffer = data_df.to_parquet()"
   ]
  },
  {
   "cell_type": "code",
   "execution_count": null,
   "id": "f53bdc19-3899-4d73-8190-288d807901ca",
   "metadata": {},
   "outputs": [],
   "source": [
    "minioClient.put_object(\n",
    "    bucket,\n",
    "    file_path,\n",
    "    data=BytesIO(file),\n",
    "    length=len(file)\n",
    ")"
   ]
  },
  {
   "cell_type": "code",
   "execution_count": null,
   "id": "1ba4a6d3-034f-43b4-b3b1-b15b9f80a1db",
   "metadata": {},
   "outputs": [],
   "source": [
    "result = minioClient.get_object(\n",
    "    bucket_name=bucket,\n",
    "    object_name=file_path    \n",
    ")\n",
    "result.__dict__"
   ]
  }
 ],
 "metadata": {
  "kernelspec": {
   "display_name": "Python 3 (ipykernel)",
   "language": "python",
   "name": "python3"
  },
  "language_info": {
   "codemirror_mode": {
    "name": "ipython",
    "version": 3
   },
   "file_extension": ".py",
   "mimetype": "text/x-python",
   "name": "python",
   "nbconvert_exporter": "python",
   "pygments_lexer": "ipython3",
   "version": "3.11.9"
  }
 },
 "nbformat": 4,
 "nbformat_minor": 5
}
