{
 "cells": [
  {
   "cell_type": "code",
   "execution_count": null,
   "id": "8dd61440-298a-4a28-82a6-a5137edc7111",
   "metadata": {
    "scrolled": true
   },
   "outputs": [],
   "source": [
    "from pyspark.sql import SparkSession\n",
    "from delta import *\n",
    "\n",
    "builder = SparkSession.builder.appName(\"Spark w/ Delta\") \\\n",
    "    .master(\"local[*]\") \\\n",
    "    .config(\"spark.sql.extensions\", \"io.delta.sql.DeltaSparkSessionExtension\") \\\n",
    "    .config(\"spark.sql.catalog.spark_catalog\", \"org.apache.spark.sql.delta.catalog.DeltaCatalog\") \\\n",
    "\n",
    "spark = configure_spark_with_delta_pip(builder).getOrCreate()"
   ]
  },
  {
   "cell_type": "code",
   "execution_count": null,
   "id": "1e8d4a6d-0a01-4e68-92d7-aa9618140bf5",
   "metadata": {},
   "outputs": [],
   "source": [
    "df = spark.read.load('./products.csv', format='csv', header=True)\n",
    "\n",
    "delta_table_path = \"./delta/products-delta\"\n",
    "df.write.format(\"delta\").save(delta_table_path)"
   ]
  },
  {
   "cell_type": "code",
   "execution_count": null,
   "id": "498d2b93-5c99-4de0-823e-86b1ab3890b6",
   "metadata": {},
   "outputs": [],
   "source": [
    " from delta.tables import *\n",
    " from pyspark.sql.functions import *\n",
    "\n",
    " # Create a deltaTable object\n",
    " deltaTable = DeltaTable.forPath(spark, delta_table_path)\n",
    "\n",
    " # Update the table (reduce price of product 771 by 10%)\n",
    " deltaTable.update(\n",
    "     condition = \"ProductID == 771\",\n",
    "     set = { \"ListPrice\": \"ListPrice * 0.9\" })\n",
    "\n",
    " # View the updated data as a dataframe\n",
    " deltaTable.toDF().show(10)"
   ]
  },
  {
   "cell_type": "code",
   "execution_count": null,
   "id": "f9a12966-dcad-4007-9228-6356dbc295d5",
   "metadata": {},
   "outputs": [],
   "source": [
    " new_df = spark.read.format(\"delta\").option(\"versionAsOf\", 0).load(delta_table_path)\n",
    " new_df.show(10)"
   ]
  },
  {
   "cell_type": "code",
   "execution_count": null,
   "id": "5aa555b5-0836-463f-97af-f9e0e408dcc7",
   "metadata": {},
   "outputs": [],
   "source": [
    " deltaTable.history(10).show(20, False, True)"
   ]
  }
 ],
 "metadata": {
  "kernelspec": {
   "display_name": "Python 3 (ipykernel)",
   "language": "python",
   "name": "python3"
  },
  "language_info": {
   "codemirror_mode": {
    "name": "ipython",
    "version": 3
   },
   "file_extension": ".py",
   "mimetype": "text/x-python",
   "name": "python",
   "nbconvert_exporter": "python",
   "pygments_lexer": "ipython3",
   "version": "3.8.10"
  }
 },
 "nbformat": 4,
 "nbformat_minor": 5
}
