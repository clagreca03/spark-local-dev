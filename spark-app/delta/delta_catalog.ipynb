{
 "cells": [
  {
   "cell_type": "code",
   "execution_count": null,
   "id": "97650325-1948-469a-a57b-8e69d45dfc40",
   "metadata": {},
   "outputs": [],
   "source": [
    "from pyspark.sql import SparkSession\n",
    "from delta import *\n",
    "\n",
    "builder = SparkSession.builder.appName(\"Spark w/ Delta\") \\\n",
    "    .master(\"local[*]\") \\\n",
    "    .config(\"spark.sql.extensions\", \"io.delta.sql.DeltaSparkSessionExtension\") \\\n",
    "    .config(\"spark.sql.catalog.spark_catalog\", \"org.apache.spark.sql.delta.catalog.DeltaCatalog\") \\\n",
    "\n",
    "spark = configure_spark_with_delta_pip(builder).getOrCreate()\n"
   ]
  },
  {
   "cell_type": "code",
   "execution_count": null,
   "id": "189ba7a1-2e84-4cbe-94a2-f15b8792249f",
   "metadata": {},
   "outputs": [],
   "source": [
    "delta_table_path = \"./delta/products-delta\""
   ]
  },
  {
   "cell_type": "code",
   "execution_count": null,
   "id": "601e2ef6-dfbf-46f5-9091-cde67ebda59d",
   "metadata": {},
   "outputs": [],
   "source": [
    "spark.sql(\"CREATE DATABASE AdventureWorks\")\n"
   ]
  },
  {
   "cell_type": "code",
   "execution_count": null,
   "id": "46fbc5fc-0950-441c-b4b0-3a24e197e174",
   "metadata": {},
   "outputs": [],
   "source": [
    "spark.sql(\"CREATE TABLE AdventureWorks.ProductsExternal USING DELTA LOCATION '{0}'\".format(delta_table_path))\n",
    "spark.sql(\"DESCRIBE EXTENDED AdventureWorks.ProductsExternal\").show(truncate=False)"
   ]
  },
  {
   "cell_type": "code",
   "execution_count": null,
   "id": "5bb1fe5d-c4a9-47a4-868d-5525160d8523",
   "metadata": {},
   "outputs": [],
   "source": [
    "%%time\n",
    "spark.sql(\"USE AdventureWorks\")\n",
    "spark.sql(\"SELECT * FROM ProductsExternal\")\n",
    "\n"
   ]
  },
  {
   "cell_type": "code",
   "execution_count": null,
   "id": "9907c827-4d56-459c-95ae-06783e9bc4ca",
   "metadata": {},
   "outputs": [],
   "source": [
    "df = CreateDataFrame(data)\n",
    "df.createOrReplaceTempView(\"test\")\n",
    "\n",
    "\n"
   ]
  },
  {
   "cell_type": "code",
   "execution_count": null,
   "id": "443d5d57-223a-449a-98c3-8ef167b52597",
   "metadata": {},
   "outputs": [],
   "source": [
    "spark.stop()"
   ]
  }
 ],
 "metadata": {
  "kernelspec": {
   "display_name": "Python 3 (ipykernel)",
   "language": "python",
   "name": "python3"
  },
  "language_info": {
   "codemirror_mode": {
    "name": "ipython",
    "version": 3
   },
   "file_extension": ".py",
   "mimetype": "text/x-python",
   "name": "python",
   "nbconvert_exporter": "python",
   "pygments_lexer": "ipython3",
   "version": "3.8.10"
  }
 },
 "nbformat": 4,
 "nbformat_minor": 5
}
